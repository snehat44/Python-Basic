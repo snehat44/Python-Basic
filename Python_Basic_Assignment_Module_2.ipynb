{
  "nbformat": 4,
  "nbformat_minor": 0,
  "metadata": {
    "colab": {
      "provenance": []
    },
    "kernelspec": {
      "name": "python3",
      "display_name": "Python 3"
    },
    "language_info": {
      "name": "python"
    }
  },
  "cells": [
    {
      "cell_type": "markdown",
      "source": [
        "# Python Basics Questions"
      ],
      "metadata": {
        "id": "qfj2albFvslD"
      }
    },
    {
      "cell_type": "markdown",
      "source": [
        "Q1. What is Python, and why is it popular?\n",
        "\n",
        "Answer: Python is a high-level, interpreted programming language known for its simplicity and readability. It is popular because it has an easy-to-learn syntax, a large standard library, cross-platform support, and a huge community. It is widely used in web development, data science, AI, machine learning, and automation."
      ],
      "metadata": {
        "id": "gnkSQ9u_XNWs"
      }
    },
    {
      "cell_type": "markdown",
      "source": [
        "Q2. What is an interpreter in Python?\n",
        "\n",
        "Answer: An interpreter in Python executes the code line by line. It translates Python code into machine code at runtime, making it easy to debug but slightly slower than compiled languages."
      ],
      "metadata": {
        "id": "4bnLJ7FnXdfg"
      }
    },
    {
      "cell_type": "markdown",
      "source": [
        "Q3. What are pre-defined keywords in Python?\n",
        "\n",
        "Answer: Pre-defined keywords in Python are reserved words that have special meaning in the language. Examples: if, else, while, for, class, def, True, False, None. These cannot be used as variable names."
      ],
      "metadata": {
        "id": "NbkY8ONyXdiE"
      }
    },
    {
      "cell_type": "markdown",
      "source": [
        "Q4. Can keywords be used as variable names?\n",
        "\n",
        "Answer: No. Keywords cannot be used as variable names in Python because they are reserved by the language to define syntax and rules."
      ],
      "metadata": {
        "id": "njXxayOOXdk4"
      }
    },
    {
      "cell_type": "markdown",
      "source": [
        "Q5. What is mutability in Python?\n",
        "\n",
        "Answer: Mutability refers to whether an object’s value can be changed after it is created. If it can be modified, it is mutable (e.g., lists). If not, it is immutable (e.g., tuples, strings)."
      ],
      "metadata": {
        "id": "B7gMTwhnXdnv"
      }
    },
    {
      "cell_type": "markdown",
      "source": [
        "Q6. Why are lists mutable, but tuples are immutable?\n",
        "\n",
        "Answer: Lists are mutable because Python allows modifications like adding, removing, or updating elements. Tuples are immutable to ensure data safety, hashability, and performance when used as dictionary keys or fixed data collections."
      ],
      "metadata": {
        "id": "mfET1QSzXdqo"
      }
    },
    {
      "cell_type": "markdown",
      "source": [
        "Q7. What is the difference between “==” and “is” operators in Python?\n",
        "\n",
        "Answer:\n",
        "\n",
        "==:- checks for value equality (whether two objects have the same value).\n",
        "\n",
        "is:- checks for identity (whether two variables point to the same object in memory)."
      ],
      "metadata": {
        "id": "At4ZNAZjXyXj"
      }
    },
    {
      "cell_type": "markdown",
      "source": [
        "Q8. What are logical operators in Python?\n",
        "\n",
        "Answer: Logical operators are used to combine conditional statements.\n",
        "\n",
        "and :- True if both conditions are true.\n",
        "\n",
        "or :- True if at least one condition is true.\n",
        "\n",
        "not :- Reverses the condition."
      ],
      "metadata": {
        "id": "D6fXm9o6YPaS"
      }
    },
    {
      "cell_type": "markdown",
      "source": [
        "Q9. What is type casting in Python?\n",
        "\n",
        "Answer: Type casting is converting one data type into another.\n",
        "\n",
        "Example:\n",
        "\n",
        "x = int(\"10\")   # string to integer\n",
        "\n",
        "y = float(5)    # integer to float"
      ],
      "metadata": {
        "id": "aJCBdcL_YPWs"
      }
    },
    {
      "cell_type": "markdown",
      "source": [
        "Q10. What is the difference between implicit and explicit type casting?\n",
        "\n",
        "Answer:\n",
        "\n",
        "Implicit type casting: Done automatically by Python (e.g., int + float → float).\n",
        "\n",
        "Explicit type casting: Done manually using functions like int(), float(), str()."
      ],
      "metadata": {
        "id": "otFy-0XpYPUK"
      }
    },
    {
      "cell_type": "markdown",
      "source": [
        "Q11. What is the purpose of conditional statements in Python?\n",
        "\n",
        "Answer: Conditional statements (if, elif, else) are used to execute different blocks of code depending on whether conditions are true or false. They help in decision-making in programs."
      ],
      "metadata": {
        "id": "8zOn7ex6YPRl"
      }
    },
    {
      "cell_type": "markdown",
      "source": [
        "Q12. How does the elif statement work?\n",
        "\n",
        "Answer: The elif statement allows checking multiple conditions. If the first condition is false, it checks the next one until a true condition is found. If none are true, the else block executes."
      ],
      "metadata": {
        "id": "rhuUnCKlZqBe"
      }
    },
    {
      "cell_type": "markdown",
      "source": [
        "Q13. What is the difference between for and while loops?\n",
        "\n",
        "Answer:\n",
        "\n",
        "for loop → Used when the number of iterations is known (iterates over a sequence like list, string, or range).\n",
        "\n",
        "while loop → Used when the number of iterations is not known in advance and depends on a condition being true."
      ],
      "metadata": {
        "id": "X3Y7rZ_tZpoa"
      }
    },
    {
      "cell_type": "markdown",
      "source": [
        "Q14. Describe a scenario where a while loop is more suitable than a for loop.\n",
        "\n",
        "Answer: A while loop is more suitable when the number of iterations is not fixed.\n",
        "\n",
        "For example, reading user input until they type \"exit\":\n",
        "\n",
        "while True:\n",
        "\n",
        "    command = input(\"Enter command: \")\n",
        "\n",
        "    if command == \"exit\":\n",
        "\n",
        "        break"
      ],
      "metadata": {
        "id": "MpagISQGXduD"
      }
    },
    {
      "cell_type": "markdown",
      "source": [
        "# Practical Questions"
      ],
      "metadata": {
        "id": "T3DHVvZlv3kG"
      }
    },
    {
      "cell_type": "code",
      "source": [
        "# Q1. Write a Python program to print \"Hello, World!\"\n",
        "print(\"Hello, World!\")"
      ],
      "metadata": {
        "colab": {
          "base_uri": "https://localhost:8080/"
        },
        "id": "7_JTxV79cF2o",
        "outputId": "9d11964a-8d99-4a5d-b158-4a94ad5a36c0"
      },
      "execution_count": 22,
      "outputs": [
        {
          "output_type": "stream",
          "name": "stdout",
          "text": [
            "Hello, World!\n"
          ]
        }
      ]
    },
    {
      "cell_type": "code",
      "source": [
        "# Q2. Write a Python program that displays your name and age\n",
        "name = \"Sneha\"\n",
        "age = 23\n",
        "print(\"Name:\", name)\n",
        "print(\"Age:\", age)"
      ],
      "metadata": {
        "colab": {
          "base_uri": "https://localhost:8080/"
        },
        "id": "Unuu_fKocMce",
        "outputId": "b94cc9b8-3a4a-4a2d-df62-69a1c52c355d"
      },
      "execution_count": 20,
      "outputs": [
        {
          "output_type": "stream",
          "name": "stdout",
          "text": [
            "Name: Sneha\n",
            "Age: 23\n"
          ]
        }
      ]
    },
    {
      "cell_type": "code",
      "source": [
        "# Q3. Write code to print all the pre-defined keywords in Python using the keyword library\n",
        "import keyword\n",
        "print(\"Python Keywords:\")\n",
        "print(keyword.kwlist)"
      ],
      "metadata": {
        "colab": {
          "base_uri": "https://localhost:8080/"
        },
        "id": "N6Q0F6YqcReK",
        "outputId": "cade0122-d65c-41f3-f62c-a14b298a6cff"
      },
      "execution_count": 21,
      "outputs": [
        {
          "output_type": "stream",
          "name": "stdout",
          "text": [
            "Python Keywords:\n",
            "['False', 'None', 'True', 'and', 'as', 'assert', 'async', 'await', 'break', 'class', 'continue', 'def', 'del', 'elif', 'else', 'except', 'finally', 'for', 'from', 'global', 'if', 'import', 'in', 'is', 'lambda', 'nonlocal', 'not', 'or', 'pass', 'raise', 'return', 'try', 'while', 'with', 'yield']\n"
          ]
        }
      ]
    },
    {
      "cell_type": "code",
      "source": [
        "# Q4. Write a program that checks if a given word is a Python keyword.\n",
        "import keyword\n",
        "word = input(\"Enter a word: \")\n",
        "if keyword.iskeyword(word):\n",
        "    print(word, \"is a Python keyword.\")\n",
        "else:\n",
        "    print(word, \"is not a Python keyword.\")"
      ],
      "metadata": {
        "colab": {
          "base_uri": "https://localhost:8080/"
        },
        "id": "-Lzodj98cVYs",
        "outputId": "ca4871b8-1746-4905-cbe2-9b6d22aba33a"
      },
      "execution_count": 23,
      "outputs": [
        {
          "output_type": "stream",
          "name": "stdout",
          "text": [
            "Enter a word: True\n",
            "True is a Python keyword.\n"
          ]
        }
      ]
    },
    {
      "cell_type": "code",
      "source": [
        "# Q5. Create a list and tuple in Python, and demonstrate how attempting to change an element works differently for each.\n",
        "\n",
        "# Creating a list\n",
        "my_list = [10, 20, 30]\n",
        "print(\"Original List:\", my_list)\n",
        "\n",
        "# Modifying an element in the list (allowed)\n",
        "my_list[1] = 200\n",
        "print(\"Modified List:\", my_list)\n",
        "\n",
        "# Creating a tuple\n",
        "my_tuple = (10, 20, 30)\n",
        "print(\"\\nOriginal Tuple:\", my_tuple)\n",
        "\n",
        "# Trying to modify an element in the tuple (not allowed)\n",
        "try:\n",
        "    my_tuple[1] = 200\n",
        "except TypeError as e:\n",
        "    print(\"Error when modifying tuple:\", e)\n"
      ],
      "metadata": {
        "colab": {
          "base_uri": "https://localhost:8080/"
        },
        "id": "Y1mG9U8dc94x",
        "outputId": "a6ed0c79-2b65-4ac2-9401-457b3749f30a"
      },
      "execution_count": 24,
      "outputs": [
        {
          "output_type": "stream",
          "name": "stdout",
          "text": [
            "Original List: [10, 20, 30]\n",
            "Modified List: [10, 200, 30]\n",
            "\n",
            "Original Tuple: (10, 20, 30)\n",
            "Error when modifying tuple: 'tuple' object does not support item assignment\n"
          ]
        }
      ]
    },
    {
      "cell_type": "code",
      "source": [
        "# Q6. Write a function to demonstrate the behavior of mutable and immutable arguments.\n",
        "def modify_data(num, my_list):\n",
        "    num += 10          # Immutable (int won’t change outside)\n",
        "    my_list.append(100)  # Mutable (list will change outside)\n",
        "    return num, my_list\n",
        "\n",
        "n = 5\n",
        "lst = [1, 2, 3]\n",
        "print(\"Before:\", n, lst)\n",
        "modify_data(n, lst)\n",
        "print(\"After:\", n, lst)"
      ],
      "metadata": {
        "colab": {
          "base_uri": "https://localhost:8080/"
        },
        "id": "0ImN1T47dIRw",
        "outputId": "22d7e9e8-e965-49d6-fdd9-5fa7c26964f8"
      },
      "execution_count": 1,
      "outputs": [
        {
          "output_type": "stream",
          "name": "stdout",
          "text": [
            "Before: 5 [1, 2, 3]\n",
            "After: 5 [1, 2, 3, 100]\n"
          ]
        }
      ]
    },
    {
      "cell_type": "code",
      "source": [
        "# Q7. Write a program that performs basic arithmetic operations on two user-input numbers.\n",
        "\n",
        "a = int(input(\"Enter first number: \"))\n",
        "b = int(input(\"Enter second number: \"))\n",
        "print(\"Sum:\", a + b)\n",
        "print(\"Difference:\", a - b)\n",
        "print(\"Product:\", a * b)\n",
        "print(\"Quotient:\", a / b if b != 0 else \"Undefined (division by zero)\")"
      ],
      "metadata": {
        "colab": {
          "base_uri": "https://localhost:8080/"
        },
        "id": "QFb0fgEerJaN",
        "outputId": "31541c65-d4d9-4e22-d799-2538adacb6c6"
      },
      "execution_count": 3,
      "outputs": [
        {
          "output_type": "stream",
          "name": "stdout",
          "text": [
            "Enter first number: 76\n",
            "Enter second number: 98\n",
            "Sum: 174\n",
            "Difference: -22\n",
            "Product: 7448\n",
            "Quotient: 0.7755102040816326\n"
          ]
        }
      ]
    },
    {
      "cell_type": "code",
      "source": [
        "# Q8. Write a program to demonstrate the use of logical operators.\n",
        "x, y = True, False\n",
        "print(\"x and y:\", x and y)\n",
        "print(\"x or y:\", x or y)\n",
        "print(\"not x:\", not x)"
      ],
      "metadata": {
        "colab": {
          "base_uri": "https://localhost:8080/"
        },
        "id": "Ffuw7GQUrO8L",
        "outputId": "e863e40f-a30c-49af-e6f4-1b6da8b1ec05"
      },
      "execution_count": 6,
      "outputs": [
        {
          "output_type": "stream",
          "name": "stdout",
          "text": [
            "x and y: False\n",
            "x or y: True\n",
            "not x: False\n"
          ]
        }
      ]
    },
    {
      "cell_type": "code",
      "source": [
        " # Q9. Write a Python program to convert user input from string to integer, float, and boolean types.\n",
        "\n",
        "x = input(\"Enter something: \")\n",
        "\n",
        "print(\"As Integer:\", int(x))\n",
        "print(\"As Float:\", float(x))\n",
        "print(\"As Boolean:\", bool(x))\n",
        "\n"
      ],
      "metadata": {
        "colab": {
          "base_uri": "https://localhost:8080/"
        },
        "id": "Xo48CvVqrvMr",
        "outputId": "67ea1b73-65df-46ad-a886-b92b2eddd84f"
      },
      "execution_count": 9,
      "outputs": [
        {
          "output_type": "stream",
          "name": "stdout",
          "text": [
            "Enter something: 1\n",
            "As Integer: 1\n",
            "As Float: 1.0\n",
            "As Boolean: True\n"
          ]
        }
      ]
    },
    {
      "cell_type": "code",
      "source": [
        "# Q10. Demonstrate type casting with list elements\n",
        "\n",
        "num_list = [\"10\", \"20\", \"30\"]\n",
        "int_list = [int(x) for x in num_list]\n",
        "print(\"Original:\", num_list)\n",
        "print(\"As integers:\", int_list)"
      ],
      "metadata": {
        "colab": {
          "base_uri": "https://localhost:8080/"
        },
        "id": "3f4Qi8wwsKBI",
        "outputId": "ab8c1bc0-3aa4-4add-8f67-1ba27904503a"
      },
      "execution_count": 11,
      "outputs": [
        {
          "output_type": "stream",
          "name": "stdout",
          "text": [
            "Original: ['10', '20', '30']\n",
            "As integers: [10, 20, 30]\n"
          ]
        }
      ]
    },
    {
      "cell_type": "code",
      "source": [
        "# Q11. Check if a number is positive, negative, or zero.\n",
        "num = int(input(\"Enter a number: \"))\n",
        "if num > 0:\n",
        "    print(\"Positive\")\n",
        "elif num < 0:\n",
        "    print(\"Negative\")\n",
        "else:\n",
        "    print(\"Zero\")"
      ],
      "metadata": {
        "colab": {
          "base_uri": "https://localhost:8080/"
        },
        "id": "9qk8aSXLsa9x",
        "outputId": "905e5652-88d8-4da9-d801-854d04b26319"
      },
      "execution_count": 13,
      "outputs": [
        {
          "output_type": "stream",
          "name": "stdout",
          "text": [
            "Enter a number: -9\n",
            "Negative\n"
          ]
        }
      ]
    },
    {
      "cell_type": "code",
      "source": [
        "# Q12. For loop to print numbers from 1 to 10.\n",
        "\n",
        "for i in range(1, 11):\n",
        "    print(i, end=\" \")\n",
        "print()"
      ],
      "metadata": {
        "colab": {
          "base_uri": "https://localhost:8080/"
        },
        "id": "AL7Tom53se6T",
        "outputId": "c22de5e7-a6dd-4a25-d7ee-e366036c0bcf"
      },
      "execution_count": 15,
      "outputs": [
        {
          "output_type": "stream",
          "name": "stdout",
          "text": [
            "1 2 3 4 5 6 7 8 9 10 \n"
          ]
        }
      ]
    },
    {
      "cell_type": "code",
      "source": [
        "# Q13. Find the sum of all even numbers between 1 and 50\n",
        "total = 0\n",
        "for i in range(1, 51):\n",
        "    if i % 2 == 0:\n",
        "        total += i\n",
        "print(\"Sum of even numbers from 1 to 50:\", total)"
      ],
      "metadata": {
        "colab": {
          "base_uri": "https://localhost:8080/"
        },
        "id": "Kl7nDVtLspOR",
        "outputId": "4d1a0286-9958-40f4-c8d9-0922f0533431"
      },
      "execution_count": 16,
      "outputs": [
        {
          "output_type": "stream",
          "name": "stdout",
          "text": [
            "Sum of even numbers from 1 to 50: 650\n"
          ]
        }
      ]
    },
    {
      "cell_type": "code",
      "source": [
        "# Q14. Write a program to reverse a string using a while loop.\n",
        "s = input(\"Enter a string: \")\n",
        "reversed_str = \"\"\n",
        "i = len(s) - 1\n",
        "while i >= 0:\n",
        "    reversed_str += s[i]\n",
        "    i -= 1\n",
        "print(\"Reversed string:\", reversed_str)"
      ],
      "metadata": {
        "colab": {
          "base_uri": "https://localhost:8080/"
        },
        "id": "oywcDwY_ss7x",
        "outputId": "02ec6fe6-85f9-40e7-9612-631fa08ac726"
      },
      "execution_count": 17,
      "outputs": [
        {
          "output_type": "stream",
          "name": "stdout",
          "text": [
            "Enter a string: Sneha\n",
            "Reversed string: ahenS\n"
          ]
        }
      ]
    },
    {
      "cell_type": "code",
      "source": [
        "# Q15.  Write a Python program to calculate the factorial of a number provided by the user using a while loop.\n",
        "num = int(input(\"Enter a number: \"))\n",
        "fact = 1\n",
        "i = 1\n",
        "while i <= num:\n",
        "    fact *= i\n",
        "    i += 1\n",
        "print(\"Factorial:\", fact)"
      ],
      "metadata": {
        "colab": {
          "base_uri": "https://localhost:8080/"
        },
        "id": "pOX9Is9qs314",
        "outputId": "6d9da730-a425-4bd6-fb8d-442309ce0cb1"
      },
      "execution_count": 19,
      "outputs": [
        {
          "output_type": "stream",
          "name": "stdout",
          "text": [
            "Enter a number: 5\n",
            "Factorial: 120\n"
          ]
        }
      ]
    }
  ]
}