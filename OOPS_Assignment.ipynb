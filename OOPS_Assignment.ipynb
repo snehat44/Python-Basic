{
  "nbformat": 4,
  "nbformat_minor": 0,
  "metadata": {
    "colab": {
      "provenance": []
    },
    "kernelspec": {
      "name": "python3",
      "display_name": "Python 3"
    },
    "language_info": {
      "name": "python"
    }
  },
  "cells": [
    {
      "cell_type": "markdown",
      "source": [
        "#Theory Questions"
      ],
      "metadata": {
        "id": "LAPnViQvAU5j"
      }
    },
    {
      "cell_type": "markdown",
      "source": [
        "1. What is Object-Oriented Programming (OOP)?\n",
        "\n",
        "- OOP is a programming approach based on objects and classes.\n",
        "It organizes code into reusable units (objects) that combine data (attributes) and functions (methods).\n",
        "- It makes code more modular, reusable, and easier to maintain."
      ],
      "metadata": {
        "id": "1g2tFaXMAU2x"
      }
    },
    {
      "cell_type": "markdown",
      "source": [
        "2. What is a class in OOP?\n",
        "\n",
        "- A class is a blueprint or template for creating objects.\n",
        "It defines attributes (variables) and methods (functions) that describe how objects of that class will behave."
      ],
      "metadata": {
        "id": "TG3DXSeqAU0H"
      }
    },
    {
      "cell_type": "markdown",
      "source": [
        "3. What is an object in OOP?\n",
        "\n",
        "- An object is an instance of a class.\n",
        "It represents a real-world entity with data and behavior."
      ],
      "metadata": {
        "id": "dnplAdZhAUxd"
      }
    },
    {
      "cell_type": "markdown",
      "source": [
        "4. Difference between abstraction and encapsulation\n",
        "\n",
        "- Abstraction - Hiding complex implementation details and showing only necessary features.\n",
        "Example - Using a drive() method without knowing how it works internally.\n",
        "\n",
        "- Encapsulation - Binding data and methods that operate on that data within a single unit (class), often using private attributes.\n",
        "Example - Using self.__speed as a private variable."
      ],
      "metadata": {
        "id": "QheiI3ENAUur"
      }
    },
    {
      "cell_type": "markdown",
      "source": [
        "5. What are dunder methods in Python?\n",
        "\n",
        "Dunder (Double UNDERscore) methods are special methods that start and end with __.\n",
        "They let you define behavior for built-in operations.\n",
        "Examples:\n",
        "\n",
        "\\_\\_init__() → Constructor\n",
        "\n",
        "\\_\\_str__() → String representation\n",
        "\n",
        "\\_\\_add__() → Define behavior for + operator"
      ],
      "metadata": {
        "id": "5Bk_sHvdAUsB"
      }
    },
    {
      "cell_type": "markdown",
      "source": [
        "6. Explain inheritance in OOP.\n",
        "\n",
        "- Inheritance allows one class (child) to derive properties and methods from another class (parent).\n",
        "It promotes code reusability."
      ],
      "metadata": {
        "id": "sCNe9sJ9AUpX"
      }
    },
    {
      "cell_type": "markdown",
      "source": [
        "7. What is polymorphism in OOP?\n",
        "\n",
        "- Polymorphism means “many forms.”\n",
        "It allows different classes to use the same method name but behave differently."
      ],
      "metadata": {
        "id": "qs6pMf61AUm0"
      }
    },
    {
      "cell_type": "markdown",
      "source": [
        "8. How is encapsulation achieved in Python?\n",
        "\n",
        "- Encapsulation is done by restricting access to variables or methods using underscores:\n",
        "\n",
        "_var → Protected (convention)\n",
        "\n",
        "__var → Private (name mangling)"
      ],
      "metadata": {
        "id": "sG4f457aAUkC"
      }
    },
    {
      "cell_type": "markdown",
      "source": [
        "9. What is a constructor in Python?\n",
        "\n",
        "- A constructor is the \\_\\_init__() method that initializes object attributes when an object is created."
      ],
      "metadata": {
        "id": "puJgqqgYAUhL"
      }
    },
    {
      "cell_type": "markdown",
      "source": [
        "10. What are class and static methods in Python?\n",
        "\n",
        "- Class Methods - @classmethod - Works with class itself, takes cls.\n",
        "- Static Methods - @staticmethod - Does not use class or object references"
      ],
      "metadata": {
        "id": "T0o9YMXjAT_Q"
      }
    },
    {
      "cell_type": "markdown",
      "source": [
        "11. What is method overloading in Python?\n",
        "\n",
        "- Python doesn’t support true overloading (like Java), but we can simulate it by using default parameters or *args."
      ],
      "metadata": {
        "id": "yCy3rXZdAT9K"
      }
    },
    {
      "cell_type": "markdown",
      "source": [
        "12. What is method overriding in OOP?\n",
        "\n",
        "- When a child class defines a method with the same name as one in its parent class, it overrides the parent’s version."
      ],
      "metadata": {
        "id": "fWcxlkcPAT7F"
      }
    },
    {
      "cell_type": "markdown",
      "source": [
        "13. What is a property decorator in Python?\n",
        "\n",
        "- The @property decorator is used to create getter methods that can be accessed like attributes."
      ],
      "metadata": {
        "id": "vJkapI6gAT49"
      }
    },
    {
      "cell_type": "markdown",
      "source": [
        "14. Why is polymorphism important in OOP?\n",
        "\n",
        "Because it:\n",
        "\n",
        "- Increases flexibility\n",
        "\n",
        "- Makes code more reusable\n",
        "\n",
        "- Simplifies interface design\n",
        "\n",
        "- Allows different objects to be used interchangeably"
      ],
      "metadata": {
        "id": "l4PUoxx0AT2F"
      }
    },
    {
      "cell_type": "markdown",
      "source": [
        "15. What is an abstract class in Python?\n",
        "\n",
        "- An abstract class is a class that cannot be instantiated directly.\n",
        "It contains abstract methods (declared but not defined)."
      ],
      "metadata": {
        "id": "Yd--qFZaAT0F"
      }
    },
    {
      "cell_type": "markdown",
      "source": [
        "16. What are the advantages of OOP?\n",
        "\n",
        "Code reusability\n",
        "\n",
        "- Modularity (organized structure)\n",
        "\n",
        "- Maintainability\n",
        "\n",
        "- Security (via encapsulation)\n",
        "\n",
        "- Scalability (easier to extend)"
      ],
      "metadata": {
        "id": "JqOH2TjVATxS"
      }
    },
    {
      "cell_type": "markdown",
      "source": [
        "17.  What is the difference between a class variable and an instance variable?\n",
        "\n",
        "- Class Variable - Inside class but outside methods. Shared by all objects.\n",
        "\n",
        "- Instance Varible - Inside \\_\\_init__(). Unique to each object."
      ],
      "metadata": {
        "id": "7kxCtgjbATuw"
      }
    },
    {
      "cell_type": "markdown",
      "source": [
        "18. What is multiple inheritance in Python?\n",
        "\n",
        "- When a class inherits from more than one parent class."
      ],
      "metadata": {
        "id": "Uw6TsA1DATsU"
      }
    },
    {
      "cell_type": "markdown",
      "source": [
        "19. Explain the purpose of ‘\\_\\_str__’ and ‘\\_\\_repr__’ methods in Python.\n",
        "- \\_\\_str__ - User-friendly string representation.\n",
        "\n",
        "- \\_\\_repr__ - Developer representation (for debugging)."
      ],
      "metadata": {
        "id": "JyhEMYYDDUrD"
      }
    },
    {
      "cell_type": "markdown",
      "source": [
        "20.  What is the significance of the ‘super()’ function in Python?\n",
        "\n",
        "- super() is used to call methods of the parent class inside a child class.\n",
        "Commonly used in constructors."
      ],
      "metadata": {
        "id": "iXgB5J_WDUnj"
      }
    },
    {
      "cell_type": "markdown",
      "source": [
        "21.  What is the significance of the \\_\\_del__ method in Python?\n",
        "- \\_\\_del__() is a destructor, called when an object is deleted or goes out of scope.\n",
        "Used for cleanup operations."
      ],
      "metadata": {
        "id": "yBsYS7AVDUk6"
      }
    },
    {
      "cell_type": "markdown",
      "source": [
        "22. What is the difference between @staticmethod and @classmethod in Python?\n",
        "\n",
        "- @staticmethod - Can’t access class or instance\n",
        "\n",
        "Parameter - No self or cls\n",
        "\n",
        "- @classmethod - Can access class-level data\n",
        "\n",
        "Parameter - Takes cls parameter"
      ],
      "metadata": {
        "id": "CnxP_Pg7AKdU"
      }
    },
    {
      "cell_type": "markdown",
      "source": [
        "23.  How does polymorphism work in Python with inheritance?\n",
        "- Child classes can override methods of the parent class.\n",
        "When the same method name exists in multiple classes, Python calls the one in the child."
      ],
      "metadata": {
        "id": "V565eIqoAKQ7"
      }
    },
    {
      "cell_type": "markdown",
      "source": [
        "24. What is method chaining in Python OOP?\n",
        "- It allows calling multiple methods on the same object in a single line by returning self from each method."
      ],
      "metadata": {
        "id": "cPKIzGDcAKGO"
      }
    },
    {
      "cell_type": "markdown",
      "source": [
        "25. What is the purpose of the \\_\\_call__ method in Python?\n",
        "- It allows an object to be called like a function."
      ],
      "metadata": {
        "id": "8cyR-8E2DUin"
      }
    },
    {
      "cell_type": "markdown",
      "source": [
        "# Practical Questions"
      ],
      "metadata": {
        "id": "PiOhk90fB3kr"
      }
    },
    {
      "cell_type": "code",
      "source": [
        "#1. Create a parent class Animal with a method speak() that prints a generic message. Create a child class Dog that overrides the speak() method to print \"Bark!\".\n",
        "\n",
        "class Animal:\n",
        "    def speak(self):\n",
        "        print(\"This animal makes a sound\")\n",
        "\n",
        "class Dog(Animal):\n",
        "    def speak(self):\n",
        "        print(\"Bark!\")\n",
        "\n",
        "# Example\n",
        "dog = Dog()\n",
        "dog.speak()\n"
      ],
      "metadata": {
        "id": "2xWVFUa_B2o6",
        "outputId": "c372279f-726a-4140-c7f1-8095b41887ef",
        "colab": {
          "base_uri": "https://localhost:8080/"
        }
      },
      "execution_count": null,
      "outputs": [
        {
          "output_type": "stream",
          "name": "stdout",
          "text": [
            "Bark!\n"
          ]
        }
      ]
    },
    {
      "cell_type": "code",
      "source": [
        "# 2. Write a program to create an abstract class Shape with a method area(). Derive classes Circle and Rectangle from it and implement the area() method in both.\n",
        "\n",
        "from abc import ABC, abstractmethod\n",
        "\n",
        "class Shape(ABC):\n",
        "    @abstractmethod\n",
        "    def area(self):\n",
        "        pass\n",
        "\n",
        "class Circle(Shape):\n",
        "    def __init__(self, radius):\n",
        "        self.radius = radius\n",
        "\n",
        "    def area(self):\n",
        "        return 3.14 * self.radius ** 2\n",
        "\n",
        "class Rectangle(Shape):\n",
        "    def __init__(self, length, width):\n",
        "        self.length = length\n",
        "        self.width = width\n",
        "\n",
        "    def area(self):\n",
        "        return self.length * self.width\n",
        "\n",
        "# Example\n",
        "circle = Circle(5)\n",
        "rectangle = Rectangle(4, 6)\n",
        "print(\"Circle Area:\", circle.area())\n",
        "print(\"Rectangle Area:\", rectangle.area())\n"
      ],
      "metadata": {
        "id": "uHALRhGGB9eP",
        "outputId": "ab027836-dc2f-4cfd-9aa9-ab437225c4ae",
        "colab": {
          "base_uri": "https://localhost:8080/"
        }
      },
      "execution_count": null,
      "outputs": [
        {
          "output_type": "stream",
          "name": "stdout",
          "text": [
            "Circle Area: 78.5\n",
            "Rectangle Area: 24\n"
          ]
        }
      ]
    },
    {
      "cell_type": "code",
      "source": [
        "# 3. Implement a multi-level inheritance scenario where a class Vehicle has an attribute type. Derive a class Car and further derive a class ElectricCar that adds a battery attribute.\n",
        "\n",
        "class Vehicle:\n",
        "    def __init__(self, v_type):\n",
        "        self.type = v_type\n",
        "\n",
        "class Car(Vehicle):\n",
        "    def __init__(self, brand, v_type=\"Car\"):\n",
        "        super().__init__(v_type)\n",
        "        self.brand = brand\n",
        "\n",
        "class ElectricCar(Car):\n",
        "    def __init__(self, brand, battery):\n",
        "        super().__init__(brand)\n",
        "        self.battery = battery\n",
        "\n",
        "# Example\n",
        "e_car = ElectricCar(\"Tesla\", \"85 kWh\")\n",
        "print(e_car.type, e_car.brand, e_car.battery)\n"
      ],
      "metadata": {
        "id": "PR6XgC2BB9a3",
        "colab": {
          "base_uri": "https://localhost:8080/"
        },
        "outputId": "dc126d8f-c848-4a67-8dcf-c3ba690b3225"
      },
      "execution_count": 4,
      "outputs": [
        {
          "output_type": "stream",
          "name": "stdout",
          "text": [
            "Car Tesla 85 kWh\n"
          ]
        }
      ]
    },
    {
      "cell_type": "code",
      "source": [
        "# 4. Demonstrate polymorphism by creating a base class Bird with a method fly(). Create two derived classes Sparrow and Penguin that override the fly() method.\n",
        "\n",
        "\n",
        "class Bird:\n",
        "    def fly(self):\n",
        "        print(\"Birds can fly\")\n",
        "\n",
        "class Sparrow(Bird):\n",
        "    def fly(self):\n",
        "        print(\"Sparrow flies high\")\n",
        "\n",
        "class Penguin(Bird):\n",
        "    def fly(self):\n",
        "        print(\"Penguins cannot fly\")\n",
        "\n",
        "# Example\n",
        "for bird in [Sparrow(), Penguin()]:\n",
        "    bird.fly()\n"
      ],
      "metadata": {
        "id": "Iv2v1ggaB9Yi",
        "colab": {
          "base_uri": "https://localhost:8080/"
        },
        "outputId": "56ab4b84-2479-47d8-b1f7-3f3b7120a27a"
      },
      "execution_count": 5,
      "outputs": [
        {
          "output_type": "stream",
          "name": "stdout",
          "text": [
            "Sparrow flies high\n",
            "Penguins cannot fly\n"
          ]
        }
      ]
    },
    {
      "cell_type": "code",
      "source": [
        "# 5. Write a program to demonstrate encapsulation by creating a class BankAccount with private attributes balance and methods to deposit, withdraw, and check balance.\n",
        "\n",
        "class BankAccount:\n",
        "    def __init__(self, balance=0):\n",
        "        self.__balance = balance  # Private attribute\n",
        "\n",
        "    def deposit(self, amount):\n",
        "        self.__balance += amount\n",
        "\n",
        "    def withdraw(self, amount):\n",
        "        if amount <= self.__balance:\n",
        "            self.__balance -= amount\n",
        "        else:\n",
        "            print(\"Insufficient balance!\")\n",
        "\n",
        "    def check_balance(self):\n",
        "        return self.__balance\n",
        "\n",
        "# Example\n",
        "account = BankAccount()\n",
        "account.deposit(1000)\n",
        "account.withdraw(500)\n",
        "print(\"Balance:\", account.check_balance())\n"
      ],
      "metadata": {
        "id": "iyLHDXinB9WE",
        "colab": {
          "base_uri": "https://localhost:8080/"
        },
        "outputId": "974367df-135f-4575-bec8-cf91e8fc5a60"
      },
      "execution_count": 6,
      "outputs": [
        {
          "output_type": "stream",
          "name": "stdout",
          "text": [
            "Balance: 500\n"
          ]
        }
      ]
    },
    {
      "cell_type": "code",
      "source": [
        "# 6. Demonstrate runtime polymorphism using a method play() in a base class Instrument. Derive classes Guitar and Piano that implement their own version of play().\n",
        "\n",
        "class Instrument:\n",
        "    def play(self):\n",
        "        print(\"Instrument is playing\")\n",
        "\n",
        "class Guitar(Instrument):\n",
        "    def play(self):\n",
        "        print(\"Playing guitar melody\")\n",
        "\n",
        "class Piano(Instrument):\n",
        "    def play(self):\n",
        "        print(\"Playing piano tune\")\n",
        "\n",
        "# Example\n",
        "for inst in [Guitar(), Piano()]:\n",
        "    inst.play()\n"
      ],
      "metadata": {
        "id": "Uzs6GOONB9Tp",
        "colab": {
          "base_uri": "https://localhost:8080/"
        },
        "outputId": "0f2b8ccc-146b-4067-82ff-adbb227d4ba1"
      },
      "execution_count": 7,
      "outputs": [
        {
          "output_type": "stream",
          "name": "stdout",
          "text": [
            "Playing guitar melody\n",
            "Playing piano tune\n"
          ]
        }
      ]
    },
    {
      "cell_type": "code",
      "source": [
        "# 7. Create a class MathOperations with a class method add_numbers() to add two numbers and a static method subtract_numbers() to subtract two numbers.\n",
        "\n",
        "class MathOperations:\n",
        "    @classmethod\n",
        "    def add_numbers(cls, a, b):\n",
        "        return a + b\n",
        "\n",
        "    @staticmethod\n",
        "    def subtract_numbers(a, b):\n",
        "        return a - b\n",
        "\n",
        "# Example\n",
        "print(MathOperations.add_numbers(10, 5))\n",
        "print(MathOperations.subtract_numbers(10, 5))\n"
      ],
      "metadata": {
        "id": "ay8NLL8aB9Re",
        "colab": {
          "base_uri": "https://localhost:8080/"
        },
        "outputId": "48cf5382-3010-4ca8-de8b-69621ca202dd"
      },
      "execution_count": 8,
      "outputs": [
        {
          "output_type": "stream",
          "name": "stdout",
          "text": [
            "15\n",
            "5\n"
          ]
        }
      ]
    },
    {
      "cell_type": "code",
      "source": [
        "# 8. Implement a class Person with a class method to count the total number of persons created.\n",
        "\n",
        "class Person:\n",
        "    count = 0\n",
        "\n",
        "    def __init__(self, name):\n",
        "        self.name = name\n",
        "        Person.count += 1\n",
        "\n",
        "    @classmethod\n",
        "    def total_persons(cls):\n",
        "        return cls.count\n",
        "\n",
        "# Example\n",
        "p1 = Person(\"Sneha\")\n",
        "p2 = Person(\"Harshit\")\n",
        "print(\"Total Persons:\", Person.total_persons())\n"
      ],
      "metadata": {
        "id": "LQywgjfIB9Ow",
        "colab": {
          "base_uri": "https://localhost:8080/"
        },
        "outputId": "db03783b-fe25-40ff-ccb7-bd5319e4755c"
      },
      "execution_count": 10,
      "outputs": [
        {
          "output_type": "stream",
          "name": "stdout",
          "text": [
            "Total Persons: 2\n"
          ]
        }
      ]
    },
    {
      "cell_type": "code",
      "source": [
        "# 9. Write a class Fraction with attributes numerator and denominator. Override the str method to display the fraction as \"numerator/denominator\".\n",
        "\n",
        "class Fraction:\n",
        "    def __init__(self, numerator, denominator):\n",
        "        self.numerator = numerator\n",
        "        self.denominator = denominator\n",
        "\n",
        "    def __str__(self):\n",
        "        return f\"{self.numerator}/{self.denominator}\"\n",
        "\n",
        "# Example\n",
        "f = Fraction(3, 4)\n",
        "print(f)\n"
      ],
      "metadata": {
        "colab": {
          "base_uri": "https://localhost:8080/"
        },
        "id": "1Gu9ssFGC2wI",
        "outputId": "b113448d-42ed-4158-a0d5-5ca13cc9d0eb"
      },
      "execution_count": 11,
      "outputs": [
        {
          "output_type": "stream",
          "name": "stdout",
          "text": [
            "3/4\n"
          ]
        }
      ]
    },
    {
      "cell_type": "code",
      "source": [
        "# 10. Demonstrate operator overloading by creating a class Vector and overriding the add method to add two vectors.\n",
        "\n",
        "class Vector:\n",
        "    def __init__(self, x, y):\n",
        "        self.x = x\n",
        "        self.y = y\n",
        "\n",
        "    def __add__(self, other):\n",
        "        return Vector(self.x + other.x, self.y + other.y)\n",
        "\n",
        "    def __str__(self):\n",
        "        return f\"({self.x}, {self.y})\"\n",
        "\n",
        "# Example\n",
        "v1 = Vector(2, 3)\n",
        "v2 = Vector(4, 5)\n",
        "print(v1 + v2)\n"
      ],
      "metadata": {
        "colab": {
          "base_uri": "https://localhost:8080/"
        },
        "id": "dlqBhvj1C2sx",
        "outputId": "8669cfc6-f9cf-45a1-8ea9-9b868a01151a"
      },
      "execution_count": 12,
      "outputs": [
        {
          "output_type": "stream",
          "name": "stdout",
          "text": [
            "(6, 8)\n"
          ]
        }
      ]
    },
    {
      "cell_type": "code",
      "source": [
        "# 11. Create a class Person with attributes name and age. Add a method greet() that prints \"Hello, my name is {name} and I am {age} years old.\"\n",
        "\n",
        "\n",
        "class Person:\n",
        "    def __init__(self, name, age):\n",
        "        self.name = name\n",
        "        self.age = age\n",
        "\n",
        "    def greet(self):\n",
        "        print(f\"Hello, my name is {self.name} and I am {self.age} years old.\")\n",
        "\n",
        "# Example\n",
        "p = Person(\"Sneha\", 22)\n",
        "p.greet()\n"
      ],
      "metadata": {
        "colab": {
          "base_uri": "https://localhost:8080/"
        },
        "id": "sCBFNJNSC2p-",
        "outputId": "add00284-d6a4-4f08-b93b-eeec53b8c0c1"
      },
      "execution_count": 13,
      "outputs": [
        {
          "output_type": "stream",
          "name": "stdout",
          "text": [
            "Hello, my name is Sneha and I am 22 years old.\n"
          ]
        }
      ]
    },
    {
      "cell_type": "code",
      "source": [
        "# 12. Implement a class Student with attributes name and grades. Create a method average_grade() to compute the average of the grades.\n",
        "\n",
        "class Student:\n",
        "    def __init__(self, name, grades):\n",
        "        self.name = name\n",
        "        self.grades = grades\n",
        "\n",
        "    def average_grade(self):\n",
        "        return sum(self.grades) / len(self.grades)\n",
        "\n",
        "# Example\n",
        "s = Student(\"Sneha\", [86, 92, 88])\n",
        "print(\"Average Grade:\", s.average_grade())\n"
      ],
      "metadata": {
        "colab": {
          "base_uri": "https://localhost:8080/"
        },
        "id": "ukxpT5gNEEIj",
        "outputId": "9e5bab7c-1bbf-4f6c-dcc3-819ec38d6073"
      },
      "execution_count": 16,
      "outputs": [
        {
          "output_type": "stream",
          "name": "stdout",
          "text": [
            "Average Grade: 88.66666666666667\n"
          ]
        }
      ]
    },
    {
      "cell_type": "code",
      "source": [
        "# 13. Create a class Rectangle with methods set_dimensions() to set the dimensions and area() to calculate the area.\n",
        "\n",
        "class Rectangle:\n",
        "    def set_dimensions(self, length, width):\n",
        "        self.length = length\n",
        "        self.width = width\n",
        "\n",
        "    def area(self):\n",
        "        return self.length * self.width\n",
        "\n",
        "# Example\n",
        "r = Rectangle()\n",
        "r.set_dimensions(4, 6)\n",
        "print(\"Area:\", r.area())\n"
      ],
      "metadata": {
        "colab": {
          "base_uri": "https://localhost:8080/"
        },
        "id": "kAaIXoPyEEFJ",
        "outputId": "64be1eae-96ec-4999-cb4a-ef90df921116"
      },
      "execution_count": 17,
      "outputs": [
        {
          "output_type": "stream",
          "name": "stdout",
          "text": [
            "Area: 24\n"
          ]
        }
      ]
    },
    {
      "cell_type": "code",
      "source": [
        "# 14. Create a class Employee with a method calculate_salary() that computes the salary based on hours worked and hourly rate. Create a derived class Manager that adds a bonus to the salary.\n",
        "\n",
        "class Employee:\n",
        "    def calculate_salary(self, hours, rate):\n",
        "        return hours * rate\n",
        "\n",
        "class Manager(Employee):\n",
        "    def calculate_salary(self, hours, rate, bonus):\n",
        "        return super().calculate_salary(hours, rate) + bonus\n",
        "\n",
        "# Example\n",
        "m = Manager()\n",
        "print(\"Manager Salary:\", m.calculate_salary(40, 500, 2000))\n"
      ],
      "metadata": {
        "colab": {
          "base_uri": "https://localhost:8080/"
        },
        "id": "KG9wqClCC2nX",
        "outputId": "56967fee-a962-49b9-bf3d-0b87f77a2723"
      },
      "execution_count": 18,
      "outputs": [
        {
          "output_type": "stream",
          "name": "stdout",
          "text": [
            "Manager Salary: 22000\n"
          ]
        }
      ]
    },
    {
      "cell_type": "code",
      "source": [
        "# 15. Create a class Product with attributes name, price, and quantity. Implement a method total_price() that calculates the total price of the product.\n",
        "\n",
        "class Product:\n",
        "    def __init__(self, name, price, quantity):\n",
        "        self.name = name\n",
        "        self.price = price\n",
        "        self.quantity = quantity\n",
        "\n",
        "    def total_price(self):\n",
        "        return self.price * self.quantity\n",
        "\n",
        "# Example\n",
        "p = Product(\"Laptop\", 60000, 2)\n",
        "print(\"Total Price:\", p.total_price())\n"
      ],
      "metadata": {
        "colab": {
          "base_uri": "https://localhost:8080/"
        },
        "id": "gDk8q6aIGXPF",
        "outputId": "6588bdc3-7924-4ea7-afac-15f4065c4c11"
      },
      "execution_count": 19,
      "outputs": [
        {
          "output_type": "stream",
          "name": "stdout",
          "text": [
            "Total Price: 120000\n"
          ]
        }
      ]
    },
    {
      "cell_type": "code",
      "source": [
        "# 16. Create a class Animal with an abstract method sound(). Create two derived classes Cow and Sheep that implement the sound() method.\n",
        "\n",
        "from abc import ABC, abstractmethod\n",
        "\n",
        "class Animal(ABC):\n",
        "    @abstractmethod\n",
        "    def sound(self):\n",
        "        pass\n",
        "\n",
        "class Cow(Animal):\n",
        "    def sound(self):\n",
        "        print(\"Moo!\")\n",
        "\n",
        "class Sheep(Animal):\n",
        "    def sound(self):\n",
        "        print(\"Baa!\")\n",
        "\n",
        "# Example\n",
        "Cow().sound()\n",
        "Sheep().sound()\n"
      ],
      "metadata": {
        "colab": {
          "base_uri": "https://localhost:8080/"
        },
        "id": "yH7y_BIRGXD3",
        "outputId": "54a7c7c9-8b2f-4457-8590-7f61b10b0afe"
      },
      "execution_count": 20,
      "outputs": [
        {
          "output_type": "stream",
          "name": "stdout",
          "text": [
            "Moo!\n",
            "Baa!\n"
          ]
        }
      ]
    },
    {
      "cell_type": "code",
      "source": [
        "# 17. Create a class Book with attributes title, author, and year_published. Add a method get_book_info() that returns a formatted string with the book's details.\n",
        "\n",
        "class Book:\n",
        "    def __init__(self, title, author, year_published):\n",
        "        self.title = title\n",
        "        self.author = author\n",
        "        self.year_published = year_published\n",
        "\n",
        "    def get_book_info(self):\n",
        "        return f\"'{self.title}' by {self.author}, published in {self.year_published}\"\n",
        "\n",
        "# Example\n",
        "b = Book(\"1984\", \"George Orwell\", 1949)\n",
        "print(b.get_book_info())\n"
      ],
      "metadata": {
        "colab": {
          "base_uri": "https://localhost:8080/"
        },
        "id": "SSLo6iiwGWXh",
        "outputId": "c6ca5dab-0d9c-4aa4-ee17-2a08c119d2d5"
      },
      "execution_count": 21,
      "outputs": [
        {
          "output_type": "stream",
          "name": "stdout",
          "text": [
            "'1984' by George Orwell, published in 1949\n"
          ]
        }
      ]
    },
    {
      "cell_type": "code",
      "source": [
        "# 18. Create a class House with attributes address and price. Create a derived class Mansion that adds an attribute number_of_rooms.\n",
        "\n",
        "class House:\n",
        "    def __init__(self, address, price):\n",
        "        self.address = address\n",
        "        self.price = price\n",
        "\n",
        "class Mansion(House):\n",
        "    def __init__(self, address, price, number_of_rooms):\n",
        "        super().__init__(address, price)\n",
        "        self.number_of_rooms = number_of_rooms\n",
        "\n",
        "# Example\n",
        "m = Mansion(\"123 Palm Street\", 5000000, 10)\n",
        "print(m.address, m.price, m.number_of_rooms)\n"
      ],
      "metadata": {
        "colab": {
          "base_uri": "https://localhost:8080/"
        },
        "id": "Mt2IxvkKGWJS",
        "outputId": "ec436b87-5254-4dfe-a48e-624c0297e846"
      },
      "execution_count": 22,
      "outputs": [
        {
          "output_type": "stream",
          "name": "stdout",
          "text": [
            "123 Palm Street 5000000 10\n"
          ]
        }
      ]
    }
  ]
}