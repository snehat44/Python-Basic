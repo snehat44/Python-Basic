{
  "nbformat": 4,
  "nbformat_minor": 0,
  "metadata": {
    "colab": {
      "provenance": []
    },
    "kernelspec": {
      "name": "python3",
      "display_name": "Python 3"
    },
    "language_info": {
      "name": "python"
    }
  },
  "cells": [
    {
      "cell_type": "markdown",
      "source": [
        "# Thory Questions"
      ],
      "metadata": {
        "id": "B4Ymhquqn_HN"
      }
    },
    {
      "cell_type": "markdown",
      "source": [
        "Q1. What is the difference between a function and a method in Python?\n",
        "\n",
        "- Function: Defined using def, works independently.\n",
        "\n",
        "- Method: A function that belongs to an object (called using .)."
      ],
      "metadata": {
        "id": "nElYyIqKn_KA"
      }
    },
    {
      "cell_type": "code",
      "source": [
        "#Q1 Example:-\n",
        "\n",
        "# Function\n",
        "def greet(name):\n",
        "    return f\"Hello, {name}\"\n",
        "\n",
        "print(greet(\"Sneha\"))\n",
        "\n",
        "# Method\n",
        "text = \"python\"\n",
        "print(text.upper())"
      ],
      "metadata": {
        "colab": {
          "base_uri": "https://localhost:8080/"
        },
        "id": "_ghmV7htoWxx",
        "outputId": "dbc02dc9-6042-43f8-fa04-e4bfd236107c"
      },
      "execution_count": 1,
      "outputs": [
        {
          "output_type": "stream",
          "name": "stdout",
          "text": [
            "Hello, Sneha\n",
            "PYTHON\n"
          ]
        }
      ]
    },
    {
      "cell_type": "markdown",
      "source": [
        "Q2. Explain the concept of function arguments and parameters in Python.\n",
        "\n",
        "- Parameters: Variables in the function definition.\n",
        "\n",
        "- Arguments: Actual values passed when calling the function."
      ],
      "metadata": {
        "id": "RrF1c1V1n_Ms"
      }
    },
    {
      "cell_type": "code",
      "source": [
        "# Q2. Example\n",
        "\n",
        "def add(a, b):  # a, b = parameters\n",
        "    return a + b\n",
        "\n",
        "print(add(3, 5))  # 3, 5 = arguments"
      ],
      "metadata": {
        "colab": {
          "base_uri": "https://localhost:8080/"
        },
        "id": "Nii4T2YnoxgI",
        "outputId": "47a19986-36aa-4bef-d4dc-b0161329bd2b"
      },
      "execution_count": 2,
      "outputs": [
        {
          "output_type": "stream",
          "name": "stdout",
          "text": [
            "8\n"
          ]
        }
      ]
    },
    {
      "cell_type": "markdown",
      "source": [
        "Q3. What are the different ways to define and call a function in Python?\n",
        "\n",
        "- Regular function (def)\n",
        "\n",
        "- Lambda function\n",
        "\n",
        "- Recursive function"
      ],
      "metadata": {
        "id": "GgvG1fl1n_Pd"
      }
    },
    {
      "cell_type": "code",
      "source": [
        "# Q3. Example\n",
        "\n",
        "# Regular function\n",
        "def square(x):\n",
        "    return x*x\n",
        "print(square(4))\n",
        "\n",
        "# Lambda function\n",
        "square = lambda x: x*x\n",
        "print(square(5))\n",
        "\n",
        "# Recursive function\n",
        "def fact(n):\n",
        "    return 1 if n==0 else n*fact(n-1)\n",
        "print(fact(5))"
      ],
      "metadata": {
        "colab": {
          "base_uri": "https://localhost:8080/"
        },
        "id": "wxtjp1GUpEe-",
        "outputId": "3e2c4085-2d4a-4cb0-c076-fa08e9defe2d"
      },
      "execution_count": 3,
      "outputs": [
        {
          "output_type": "stream",
          "name": "stdout",
          "text": [
            "16\n",
            "25\n",
            "120\n"
          ]
        }
      ]
    },
    {
      "cell_type": "markdown",
      "source": [
        "Q4. What is the purpose of the return statement in a Python function?\n",
        "\n",
        "- Returns a value from the function back to the caller."
      ],
      "metadata": {
        "id": "BIieNpnBn_SW"
      }
    },
    {
      "cell_type": "code",
      "source": [
        "# Q4. Exmple:-\n",
        "\n",
        "def multiply(a, b):\n",
        "    return a * b\n",
        "\n",
        "result = multiply(4, 5)\n",
        "print(result)"
      ],
      "metadata": {
        "colab": {
          "base_uri": "https://localhost:8080/"
        },
        "id": "dGpOEuLRpU_m",
        "outputId": "bf967c19-53ed-44d2-ca95-e4965d0833ae"
      },
      "execution_count": 5,
      "outputs": [
        {
          "output_type": "stream",
          "name": "stdout",
          "text": [
            "20\n"
          ]
        }
      ]
    },
    {
      "cell_type": "markdown",
      "source": [
        "Q5. What are iterators in Python and how do they differ from iterables?\n",
        "\n",
        "- Iterable: An object that can return an iterator (like list, tuple).\n",
        "\n",
        "- Iterator: Object with \\_\\_next__() to fetch next element."
      ],
      "metadata": {
        "id": "9RdRobmCn_V2"
      }
    },
    {
      "cell_type": "code",
      "source": [
        "# Q5 Example:-\n",
        "\n",
        "nums = [1, 2, 3]\n",
        "it = iter(nums)  # iterator\n",
        "print(next(it))\n",
        "print(next(it))"
      ],
      "metadata": {
        "colab": {
          "base_uri": "https://localhost:8080/"
        },
        "id": "dE44bP7Op5S6",
        "outputId": "f94842bb-7d0b-4816-fac5-f0ba74f8eccb"
      },
      "execution_count": 6,
      "outputs": [
        {
          "output_type": "stream",
          "name": "stdout",
          "text": [
            "1\n",
            "2\n"
          ]
        }
      ]
    },
    {
      "cell_type": "markdown",
      "source": [
        "Q6. Explain the concept of generators in Python and how they are defined.\n",
        "\n",
        "- Generators are functions that yield values one by one using yield."
      ],
      "metadata": {
        "id": "OQ81yUs3n_mo"
      }
    },
    {
      "cell_type": "code",
      "source": [
        "#Q6. Example:-\n",
        "\n",
        "def my_gen():\n",
        "    yield 1\n",
        "    yield 2\n",
        "    yield 3\n",
        "\n",
        "for val in my_gen():\n",
        "    print(val)"
      ],
      "metadata": {
        "colab": {
          "base_uri": "https://localhost:8080/"
        },
        "id": "n3g2z4fsqtsa",
        "outputId": "aa80df54-72a5-4022-fa66-1ad662a1e916"
      },
      "execution_count": 7,
      "outputs": [
        {
          "output_type": "stream",
          "name": "stdout",
          "text": [
            "1\n",
            "2\n",
            "3\n"
          ]
        }
      ]
    },
    {
      "cell_type": "markdown",
      "source": [
        "Q7. What are the advantages of using generators over regular functions?\n",
        "\n",
        "- Memory efficient (don’t store all values at once).\n",
        "\n",
        "- Used for large datasets/streams."
      ],
      "metadata": {
        "id": "y_yfdBtwn_op"
      }
    },
    {
      "cell_type": "code",
      "source": [
        "#Q7. Example:-\n",
        "\n",
        "# Normal list\n",
        "nums = [x for x in range(1000000)]\n",
        "\n",
        "# Generator\n",
        "nums_gen = (x for x in range(1000000))"
      ],
      "metadata": {
        "id": "VU41NgYaq6Fa"
      },
      "execution_count": 8,
      "outputs": []
    },
    {
      "cell_type": "markdown",
      "source": [
        "Q8. What is a lambda function in Python and when is it typically used?\n",
        "\n",
        "- A small anonymous function using lambda.\n",
        "\n",
        "- Used for short, throwaway functions."
      ],
      "metadata": {
        "id": "_qmPMv1Fn_qd"
      }
    },
    {
      "cell_type": "code",
      "source": [
        "#Q8. Example\n",
        "\n",
        "square = lambda x: x**2\n",
        "print(square(6))"
      ],
      "metadata": {
        "colab": {
          "base_uri": "https://localhost:8080/"
        },
        "id": "e7HqZkjTrLez",
        "outputId": "ad93dfc2-c5a0-43d5-a66b-317f455a6163"
      },
      "execution_count": 9,
      "outputs": [
        {
          "output_type": "stream",
          "name": "stdout",
          "text": [
            "36\n"
          ]
        }
      ]
    },
    {
      "cell_type": "markdown",
      "source": [
        "Q9. Explain the purpose and usage of the map() function in Python.\n",
        "\n",
        "- Applies a function to each element of an iterable."
      ],
      "metadata": {
        "id": "yIUCQpFMn_s_"
      }
    },
    {
      "cell_type": "code",
      "source": [
        "#Q9. Example:-\n",
        "\n",
        "nums = [1, 2, 3, 4]\n",
        "squares = list(map(lambda x: x**2, nums))\n",
        "print(squares)\n"
      ],
      "metadata": {
        "colab": {
          "base_uri": "https://localhost:8080/"
        },
        "id": "us9GSW8qrXt-",
        "outputId": "381f7d7e-1e82-411d-f43a-6ada95b85579"
      },
      "execution_count": 10,
      "outputs": [
        {
          "output_type": "stream",
          "name": "stdout",
          "text": [
            "[1, 4, 9, 16]\n"
          ]
        }
      ]
    },
    {
      "cell_type": "markdown",
      "source": [
        "Q10. What is the difference between map(), reduce(), and filter() functions in Python?\n",
        "\n",
        "- map() → applies function to all elements.\n",
        "\n",
        "- filter() → keeps only elements meeting condition.\n",
        "\n",
        "- reduce() → reduces sequence into a single value."
      ],
      "metadata": {
        "id": "HCFHwBMcn_vJ"
      }
    },
    {
      "cell_type": "code",
      "source": [
        "#Q10. Example:-\n",
        "\n",
        "from functools import reduce\n",
        "\n",
        "nums = [1, 2, 3, 4, 5]\n",
        "\n",
        "print(list(map(lambda x: x*2, nums)))\n",
        "print(list(filter(lambda x: x%2==0, nums)))\n",
        "print(reduce(lambda x,y: x+y, nums))"
      ],
      "metadata": {
        "colab": {
          "base_uri": "https://localhost:8080/"
        },
        "id": "QFrYCA1Krtf3",
        "outputId": "5ed51e62-b109-4585-c16a-0bc9fc43b5dc"
      },
      "execution_count": 11,
      "outputs": [
        {
          "output_type": "stream",
          "name": "stdout",
          "text": [
            "[2, 4, 6, 8, 10]\n",
            "[2, 4]\n",
            "15\n"
          ]
        }
      ]
    },
    {
      "cell_type": "markdown",
      "source": [
        "Q11. Using a paper and pen write the internal mechanism for sum operation using reduce function on the given list: [47, 11, 42, 13]\n",
        "\n",
        "![WhatsApp Image 2025-10-02 at 08.24.51_00d59562.jpg](data:image/jpeg;base64,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)\n"
      ],
      "metadata": {
        "id": "zpkGLchin_xP"
      }
    },
    {
      "cell_type": "markdown",
      "source": [
        "# Practical Questions"
      ],
      "metadata": {
        "id": "BG0fEt2Rn_zD"
      }
    },
    {
      "cell_type": "code",
      "source": [
        "# Q1. Write a Python function that takes a list of numbers as input and returns the sum of all even numbers in the list.\n",
        "\n",
        "def sum_even(numbers):\n",
        "    return sum(num for num in numbers if num % 2 == 0)\n",
        "\n",
        "print(sum_even([1, 2, 3, 4, 5, 6]))"
      ],
      "metadata": {
        "colab": {
          "base_uri": "https://localhost:8080/"
        },
        "id": "Pl7mhI-J4NXW",
        "outputId": "ba204adb-3e99-4cac-8445-2a5dcc816815"
      },
      "execution_count": 12,
      "outputs": [
        {
          "output_type": "stream",
          "name": "stdout",
          "text": [
            "12\n"
          ]
        }
      ]
    },
    {
      "cell_type": "code",
      "source": [
        "# Q2. Create a Python function that accepts a string and returns the reverse of that string.\n",
        "\n",
        "def reverse_string(s):\n",
        "    return s[::-1]\n",
        "\n",
        "print(reverse_string(\"Python\"))"
      ],
      "metadata": {
        "colab": {
          "base_uri": "https://localhost:8080/"
        },
        "id": "PruD8ZGU4NUU",
        "outputId": "e77c95a6-7116-4b7b-dd82-1d66910958fb"
      },
      "execution_count": 10,
      "outputs": [
        {
          "output_type": "stream",
          "name": "stdout",
          "text": [
            "nohtyP\n"
          ]
        }
      ]
    },
    {
      "cell_type": "code",
      "source": [
        "# Q3. Implement a Python function that takes a list of integers and returns a new list containing the squares of each number.\n",
        "\n",
        "def square_list(nums):\n",
        "    return [x**2 for x in nums]\n",
        "\n",
        "print(square_list([1, 2, 3, 4]))"
      ],
      "metadata": {
        "colab": {
          "base_uri": "https://localhost:8080/"
        },
        "id": "f3MUvmEa4NRr",
        "outputId": "cf264964-8bad-422e-9c7e-a24d3884a953"
      },
      "execution_count": 1,
      "outputs": [
        {
          "output_type": "stream",
          "name": "stdout",
          "text": [
            "[1, 4, 9, 16]\n"
          ]
        }
      ]
    },
    {
      "cell_type": "code",
      "source": [
        "# Q4. Write a Python function that checks if a given number is prime or not from 1 to 200.\n",
        "\n",
        "def is_prime(n):\n",
        "    if n < 2:\n",
        "        return False\n",
        "    for i in range(2, int(n**0.5)+1):\n",
        "        if n % i == 0:\n",
        "            return False\n",
        "    return True\n",
        "\n",
        "primes = [n for n in range(1, 201) if is_prime(n)]\n",
        "print(primes)"
      ],
      "metadata": {
        "colab": {
          "base_uri": "https://localhost:8080/"
        },
        "id": "q4YKFqDm4NPE",
        "outputId": "c699e65d-7f40-4966-b0e7-87d2b1e84c52"
      },
      "execution_count": 2,
      "outputs": [
        {
          "output_type": "stream",
          "name": "stdout",
          "text": [
            "[2, 3, 5, 7, 11, 13, 17, 19, 23, 29, 31, 37, 41, 43, 47, 53, 59, 61, 67, 71, 73, 79, 83, 89, 97, 101, 103, 107, 109, 113, 127, 131, 137, 139, 149, 151, 157, 163, 167, 173, 179, 181, 191, 193, 197, 199]\n"
          ]
        }
      ]
    },
    {
      "cell_type": "code",
      "source": [
        "# Q5. Create an iterator class in Python that generates the Fibonacci sequence up to a specified number of terms.\n",
        "\n",
        "class Fibonacci:\n",
        "    def __init__(self, terms):\n",
        "        self.terms = terms\n",
        "        self.a, self.b = 0, 1\n",
        "        self.count = 0\n",
        "\n",
        "    def __iter__(self):\n",
        "        return self\n",
        "\n",
        "    def __next__(self):\n",
        "        if self.count >= self.terms:\n",
        "            raise StopIteration\n",
        "        self.count += 1\n",
        "        self.a, self.b = self.b, self.a + self.b\n",
        "        return self.a\n",
        "\n",
        "for num in Fibonacci(10):\n",
        "    print(num, end=\" \")"
      ],
      "metadata": {
        "colab": {
          "base_uri": "https://localhost:8080/"
        },
        "id": "dnAR4Ozk4NMP",
        "outputId": "b5cdcf7a-1453-4366-9b96-e104705eb697"
      },
      "execution_count": 3,
      "outputs": [
        {
          "output_type": "stream",
          "name": "stdout",
          "text": [
            "1 1 2 3 5 8 13 21 34 55 "
          ]
        }
      ]
    },
    {
      "cell_type": "code",
      "source": [
        "# Q6. Write a generator function in Python that yields the powers of 2 up to a given exponent.\n",
        "\n",
        "def powers_of_two(n):\n",
        "    for i in range(n+1):\n",
        "        yield 2**i\n",
        "\n",
        "for val in powers_of_two(5):\n",
        "    print(val, end=\" \")"
      ],
      "metadata": {
        "colab": {
          "base_uri": "https://localhost:8080/"
        },
        "id": "DfVJ68454NJa",
        "outputId": "c1e03cb8-fef7-41b6-8a6a-4a8668ff19fd"
      },
      "execution_count": 4,
      "outputs": [
        {
          "output_type": "stream",
          "name": "stdout",
          "text": [
            "1 2 4 8 16 32 "
          ]
        }
      ]
    },
    {
      "cell_type": "code",
      "source": [
        "# Q7. Implement a generator function that reads a file line by line and yields each line as a string.\n",
        "\n",
        "with open(\"myfile.txt\", \"w\") as f:\n",
        "    f.write(\"Python is fun\\n\")\n",
        "    f.write(\"Generators save memory\\n\")\n",
        "    f.write(\"File handling is easy\\n\")\n",
        "\n",
        "\n",
        "def read_file(filename):\n",
        "    with open(filename, \"r\") as f:\n",
        "        for line in f:\n",
        "            yield line.strip()   # yields each line as a string\n",
        "\n",
        "for line in read_file(\"myfile.txt\"):\n",
        "    print(line)"
      ],
      "metadata": {
        "colab": {
          "base_uri": "https://localhost:8080/"
        },
        "id": "Y9Hs-hSg4NGp",
        "outputId": "97aa18c2-1660-4808-d6ad-ec901000ec5f"
      },
      "execution_count": 9,
      "outputs": [
        {
          "output_type": "stream",
          "name": "stdout",
          "text": [
            "Python is fun\n",
            "Generators save memory\n",
            "File handling is easy\n"
          ]
        }
      ]
    },
    {
      "cell_type": "code",
      "source": [
        "# Q8. Use a lambda function in Python to sort a list of tuples based on the second element of each tuple.\n",
        "\n",
        "tuples = [(1, 5), (2, 1), (3, 4), (4, 2)]\n",
        "sorted_tuples = sorted(tuples, key=lambda x: x[1])\n",
        "print(sorted_tuples)"
      ],
      "metadata": {
        "colab": {
          "base_uri": "https://localhost:8080/"
        },
        "id": "p8A_Cxx34ND8",
        "outputId": "20d2cd2d-6998-4bab-b645-978d36fe45ee"
      },
      "execution_count": 6,
      "outputs": [
        {
          "output_type": "stream",
          "name": "stdout",
          "text": [
            "[(2, 1), (4, 2), (3, 4), (1, 5)]\n"
          ]
        }
      ]
    },
    {
      "cell_type": "code",
      "source": [
        "# Q9. Write a Python program that uses map() to convert a list of temperatures from Celsius to Fahrenheit.\n",
        "\n",
        "celsius = [0, 20, 30, 40]\n",
        "fahrenheit = list(map(lambda c: (c * 9/5) + 32, celsius))\n",
        "print(fahrenheit)"
      ],
      "metadata": {
        "colab": {
          "base_uri": "https://localhost:8080/"
        },
        "id": "8DOAa4O94NBK",
        "outputId": "3f7991e3-a4e9-4d17-f3e8-07b98afff7f2"
      },
      "execution_count": 7,
      "outputs": [
        {
          "output_type": "stream",
          "name": "stdout",
          "text": [
            "[32.0, 68.0, 86.0, 104.0]\n"
          ]
        }
      ]
    },
    {
      "cell_type": "code",
      "source": [
        "# Q10. Create a Python program that uses filter() to remove all the vowels from a given string.\n",
        "\n",
        "def remove_vowels(s):\n",
        "    vowels = \"aeiouAEIOU\"\n",
        "    return \"\".join(filter(lambda ch: ch not in vowels, s))\n",
        "\n",
        "print(remove_vowels(\"Hello World\"))"
      ],
      "metadata": {
        "colab": {
          "base_uri": "https://localhost:8080/"
        },
        "id": "yp2Fnvjt4M-4",
        "outputId": "13890a97-1d51-40e1-8611-4513a800b9e0"
      },
      "execution_count": 8,
      "outputs": [
        {
          "output_type": "stream",
          "name": "stdout",
          "text": [
            "Hll Wrld\n"
          ]
        }
      ]
    },
    {
      "cell_type": "code",
      "source": [
        "# Q11.  Imagine an accounting routine used in a book shop. It works on a list with sublists, which look like this:\n",
        "\n",
        "#Write a Python program, which returns a list with 2-tuples. Each tuple consists of the order number and the product of the price per item and the quantity. The product should be increased by 10,- € if the value of the order is smaller than 100,00 €.\n",
        "\n",
        "#Write a Python program using lambda and map.\n",
        "\n",
        "orders = [\n",
        "    [34587, \"Learning Python, Mark Lutz\", 4, 40.95],\n",
        "    [98762, \"Programming Python, Mark Lutz\", 5, 56.80],\n",
        "    [77226, \"Head First Python, Paul Barry\", 3, 32.95],\n",
        "    [88112, \"Einführung in Python3, Bernd Klein\", 3, 24.99]\n",
        "]\n",
        "\n",
        "result = list(map(lambda order: (\n",
        "    order[0],\n",
        "    order[2] * order[3] if order[2] * order[3] >= 100\n",
        "    else order[2] * order[3] + 10\n",
        "), orders))\n",
        "\n",
        "print(result)"
      ],
      "metadata": {
        "colab": {
          "base_uri": "https://localhost:8080/"
        },
        "id": "sFmbbWzy4M7j",
        "outputId": "0659b728-ba44-411d-cc2e-cb62f23267ff"
      },
      "execution_count": 11,
      "outputs": [
        {
          "output_type": "stream",
          "name": "stdout",
          "text": [
            "[(34587, 163.8), (98762, 284.0), (77226, 108.85000000000001), (88112, 84.97)]\n"
          ]
        }
      ]
    }
  ]
}